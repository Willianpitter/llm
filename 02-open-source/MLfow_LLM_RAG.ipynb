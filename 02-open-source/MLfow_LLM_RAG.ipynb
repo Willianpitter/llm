{
 "cells": [
  {
   "cell_type": "markdown",
   "id": "1d26e9e8-37d6-4eb3-983b-bfa29db0bd70",
   "metadata": {},
   "source": [
    "# Import the mlflow db from the experiments"
   ]
  },
  {
   "cell_type": "code",
   "execution_count": 187,
   "id": "660e7a2a-c111-4b41-80dc-435c40c5588f",
   "metadata": {},
   "outputs": [
    {
     "name": "stdout",
     "output_type": "stream",
     "text": [
      "sqlite\n",
      "['alembic_version', 'datasets', 'experiment_tags', 'experiments', 'input_tags', 'inputs', 'latest_metrics', 'metrics', 'model_version_tags', 'model_versions', 'params', 'registered_model_aliases', 'registered_model_tags', 'registered_models', 'runs', 'tags', 'trace_info', 'trace_request_metadata', 'trace_tags']\n"
     ]
    }
   ],
   "source": [
    "from langchain_community.utilities import SQLDatabase\n",
    "\n",
    "db = SQLDatabase.from_uri(\"sqlite:///mlflow.db\")\n",
    "print(db.dialect)\n",
    "print(db.get_usable_table_names())\n",
    "#db.run(\"SELECT * FROM metrics LIMIT 10;\")"
   ]
  },
  {
   "cell_type": "markdown",
   "id": "27a29344-74a1-4e46-a6a7-6df5a322f45c",
   "metadata": {},
   "source": [
    "# Using Chain"
   ]
  },
  {
   "cell_type": "code",
   "execution_count": 171,
   "id": "ad2a2d07-d639-4e3a-88f9-68268a8f7426",
   "metadata": {},
   "outputs": [],
   "source": [
    "from langchain.chains import create_sql_query_chain\n",
    "from langchain_community.llms import Ollama\n",
    "\n",
    "llm = Ollama(model=\"llama3.1:latest\",temperature=0)\n",
    "chain = create_sql_query_chain(llm, db)\n",
    "response = chain.invoke({\"question\": \"How many model versions are there\"})\n",
    "response"
   ]
  },
  {
   "cell_type": "code",
   "execution_count": 172,
   "id": "bf9e2a0c-67db-4c4b-bd92-effe0216c5ef",
   "metadata": {},
   "outputs": [
    {
     "name": "stdout",
     "output_type": "stream",
     "text": [
      "You are a SQLite expert. Given an input question, first create a syntactically correct SQLite query to run, then look at the results of the query and return the answer to the input question.\n",
      "Unless the user specifies in the question a specific number of examples to obtain, query for at most 5 results using the LIMIT clause as per SQLite. You can order the results to return the most informative data in the database.\n",
      "Never query for all columns from a table. You must query only the columns that are needed to answer the question. Wrap each column name in double quotes (\") to denote them as delimited identifiers.\n",
      "Pay attention to use only the column names you can see in the tables below. Be careful to not query for columns that do not exist. Also, pay attention to which column is in which table.\n",
      "Pay attention to use date('now') function to get the current date, if the question involves \"today\".\n",
      "\n",
      "Use the following format:\n",
      "\n",
      "Question: Question here\n",
      "SQLQuery: SQL Query to run\n",
      "SQLResult: Result of the SQLQuery\n",
      "Answer: Final answer here\n",
      "\n",
      "Only use the following tables:\n",
      "\u001b[33;1m\u001b[1;3m{table_info}\u001b[0m\n",
      "\n",
      "Question: \u001b[33;1m\u001b[1;3m{input}\u001b[0m\n"
     ]
    }
   ],
   "source": [
    "chain.get_prompts()[0].pretty_print()"
   ]
  },
  {
   "cell_type": "markdown",
   "id": "e4141c26-d725-4acc-942a-3862a342d33a",
   "metadata": {},
   "source": [
    "We can use the QuerySQLDatabaseTool to easily add query execution to our chain:\n",
    "\n"
   ]
  },
  {
   "cell_type": "code",
   "execution_count": 173,
   "id": "3210cffd-473c-44e1-a8cf-456783bb0de7",
   "metadata": {},
   "outputs": [],
   "source": [
    "from langchain_community.tools.sql_database.tool import QuerySQLDataBaseTool\n",
    "\n",
    "execute_query = QuerySQLDataBaseTool(db=db)\n",
    "write_query = create_sql_query_chain(llm, db)\n",
    "chain = write_query | execute_query\n",
    "#chain.invoke({\"question\": \"How many employees are there\"})"
   ]
  },
  {
   "cell_type": "code",
   "execution_count": 174,
   "id": "b7421d41-5cee-4204-a9a3-87fd6732361e",
   "metadata": {},
   "outputs": [
    {
     "data": {
      "text/plain": [
       "'[(2,)]'"
      ]
     },
     "execution_count": 174,
     "metadata": {},
     "output_type": "execute_result"
    }
   ],
   "source": [
    "execute_query.invoke(\"SELECT COUNT(*) FROM model_versions;\")"
   ]
  },
  {
   "cell_type": "markdown",
   "id": "d6b60ba0-1792-44f5-8ac1-6658a2e7146b",
   "metadata": {},
   "source": [
    "# Agents"
   ]
  },
  {
   "cell_type": "markdown",
   "id": "17d317c3-1d70-4e11-809e-f56397908561",
   "metadata": {},
   "source": [
    "LangChain has a SQL Agent which provides a more flexible way of interacting with SQL Databases than a chain. The main advantages of using the SQL Agent are:\n",
    "\n",
    "It can answer questions based on the databases' schema as well as on the databases' content (like describing a specific table).\n",
    "It can recover from errors by running a generated query, catching the traceback and regenerating it correctly.\n",
    "It can query the database as many times as needed to answer the user question.\n",
    "It will save tokens by only retrieving the schema from relevant tables."
   ]
  },
  {
   "cell_type": "code",
   "execution_count": 175,
   "id": "437bdbd3-8749-4779-9630-9b8f376c5712",
   "metadata": {},
   "outputs": [
    {
     "data": {
      "text/plain": [
       "[QuerySQLDataBaseTool(description=\"Input to this tool is a detailed and correct SQL query, output is a result from the database. If the query is not correct, an error message will be returned. If an error is returned, rewrite the query, check the query, and try again. If you encounter an issue with Unknown column 'xxxx' in 'field list', use sql_db_schema to query the correct table fields.\", db=<langchain_community.utilities.sql_database.SQLDatabase object at 0x0000026FEFFE3590>),\n",
       " InfoSQLDatabaseTool(description='Input to this tool is a comma-separated list of tables, output is the schema and sample rows for those tables. Be sure that the tables actually exist by calling sql_db_list_tables first! Example Input: table1, table2, table3', db=<langchain_community.utilities.sql_database.SQLDatabase object at 0x0000026FEFFE3590>),\n",
       " ListSQLDatabaseTool(db=<langchain_community.utilities.sql_database.SQLDatabase object at 0x0000026FEFFE3590>),\n",
       " QuerySQLCheckerTool(description='Use this tool to double check if your query is correct before executing it. Always use this tool before executing a query with sql_db_query!', db=<langchain_community.utilities.sql_database.SQLDatabase object at 0x0000026FEFFE3590>, llm=Ollama(model='llama3.1:latest', temperature=0.0), llm_chain=LLMChain(verbose=False, prompt=PromptTemplate(input_variables=['dialect', 'query'], input_types={}, partial_variables={}, template='\\n{query}\\nDouble check the {dialect} query above for common mistakes, including:\\n- Using NOT IN with NULL values\\n- Using UNION when UNION ALL should have been used\\n- Using BETWEEN for exclusive ranges\\n- Data type mismatch in predicates\\n- Properly quoting identifiers\\n- Using the correct number of arguments for functions\\n- Casting to the correct data type\\n- Using the proper columns for joins\\n\\nIf there are any of the above mistakes, rewrite the query. If there are no mistakes, just reproduce the original query.\\n\\nOutput the final SQL query only.\\n\\nSQL Query: '), llm=Ollama(model='llama3.1:latest', temperature=0.0), output_parser=StrOutputParser(), llm_kwargs={}))]"
      ]
     },
     "execution_count": 175,
     "metadata": {},
     "output_type": "execute_result"
    }
   ],
   "source": [
    "from langchain_community.agent_toolkits import SQLDatabaseToolkit\n",
    "toolkit = SQLDatabaseToolkit(db=db, llm=llm)\n",
    "tools = toolkit.get_tools()\n",
    "tools"
   ]
  },
  {
   "cell_type": "code",
   "execution_count": 176,
   "id": "7f862e33-47b4-4223-a2d5-407ed3101445",
   "metadata": {},
   "outputs": [],
   "source": [
    "from langchain_core.messages import SystemMessage\n",
    "\n",
    "SQL_PREFIX = \"\"\"You are an agent designed to interact with a SQL database.\n",
    "Given an input question, create a syntactically correct SQLite query to run, then look at the results of the query and return the answer.\n",
    "Unless the user specifies a specific number of examples they wish to obtain, always limit your query to at most 5 results.\n",
    "You can order the results by a relevant column to return the most interesting examples in the database.\n",
    "Never query for all the columns from a specific table, only ask for the relevant columns given the question.\n",
    "You have access to tools for interacting with the database.\n",
    "Only use the below tools. Only use the information returned by the below tools to construct your final answer.\n",
    "You MUST double check your query before executing it. If you get an error while executing a query, rewrite the query and try again.\n",
    "\n",
    "DO NOT make any DML statements (INSERT, UPDATE, DELETE, DROP etc.) to the database.\n",
    "\n",
    "To start you should ALWAYS look at the tables in the database to see what you can query.\n",
    "Do NOT skip this step.\n",
    "Then you should query the schema of the most relevant tables.\"\"\"\n",
    "\n",
    "system_message = SystemMessage(content=SQL_PREFIX)"
   ]
  },
  {
   "cell_type": "markdown",
   "id": "c8c4be50-f537-4d69-80fa-ea453dbfeb54",
   "metadata": {},
   "source": [
    "# System Prompt"
   ]
  },
  {
   "cell_type": "code",
   "execution_count": 177,
   "id": "38492667-aa48-4fbd-877a-b706b75ead8c",
   "metadata": {},
   "outputs": [],
   "source": [
    "from langchain_ollama import ChatOllama\n",
    "\n",
    "llm = ChatOllama(\n",
    "    model=\"llama3.1:latest\",\n",
    "    temperature=0)"
   ]
  },
  {
   "cell_type": "code",
   "execution_count": 178,
   "id": "4ac63962-9326-463f-b6d1-8bd18116105a",
   "metadata": {},
   "outputs": [],
   "source": [
    "from langchain_core.messages import HumanMessage\n",
    "from langgraph.prebuilt import create_react_agent\n",
    "\n",
    "agent_executor = create_react_agent(llm, tools, state_modifier=system_message)"
   ]
  },
  {
   "cell_type": "code",
   "execution_count": 180,
   "id": "83e704cd-71c9-4c72-b0f2-4014918c3499",
   "metadata": {},
   "outputs": [],
   "source": [
    "question = \"How many model versions are there?\""
   ]
  },
  {
   "cell_type": "code",
   "execution_count": 184,
   "id": "8b67f036-7c8f-4fe4-bd51-2d9f79131505",
   "metadata": {},
   "outputs": [
    {
     "data": {
      "text/plain": [
       "'There are 2 model versions.'"
      ]
     },
     "execution_count": 184,
     "metadata": {},
     "output_type": "execute_result"
    }
   ],
   "source": [
    "from operator import itemgetter\n",
    "\n",
    "from langchain_core.output_parsers import StrOutputParser\n",
    "from langchain_core.prompts import PromptTemplate\n",
    "from langchain_core.runnables import RunnablePassthrough\n",
    "\n",
    "answer_prompt = PromptTemplate.from_template(\n",
    "    \"\"\"Given the following user question, corresponding SQL query, and SQL result, answer the user question.\n",
    "\n",
    "Question: {messages}\n",
    "SQL Query: {query}\n",
    "SQL Result: {result}\n",
    "Answer: \"\"\"\n",
    ")\n",
    "\n",
    "chain = (\n",
    "     RunnablePassthrough().assign(query= lambda inputs: agent_executor.invoke(inputs)[\"messages\"][-1].content).assign(result=itemgetter(\"query\")\n",
    "        | execute_query           \n",
    "    )\n",
    "    \n",
    "    | answer_prompt\n",
    "    | llm\n",
    "    | StrOutputParser()    \n",
    "\n",
    ")\n",
    "\n",
    "chain.invoke({\"messages\":\"How many model versions are there?\"})"
   ]
  },
  {
   "cell_type": "markdown",
   "id": "19c5f07a-08ce-4532-8da8-0349e8ee5e68",
   "metadata": {},
   "source": [
    "Exploring the agents"
   ]
  },
  {
   "cell_type": "code",
   "execution_count": 30,
   "id": "b362b0bd-8c03-4579-9921-1ec0245555b3",
   "metadata": {},
   "outputs": [
    {
     "name": "stdout",
     "output_type": "stream",
     "text": [
      "{'agent': {'messages': [AIMessage(content='', additional_kwargs={}, response_metadata={'model': 'llama3.1:latest', 'created_at': '2024-09-29T18:49:34.8904034Z', 'message': {'role': 'assistant', 'content': '', 'tool_calls': [{'function': {'name': 'sql_db_schema', 'arguments': {'table_names': 'model_versions'}}}]}, 'done_reason': 'stop', 'done': True, 'total_duration': 409150426800, 'load_duration': 41611817900, 'prompt_eval_count': 720, 'prompt_eval_duration': 318930545000, 'eval_count': 20, 'eval_duration': 47578886000}, id='run-7b1b56bf-3f2b-4a5e-ac64-1b3aae8acf0e-0', tool_calls=[{'name': 'sql_db_schema', 'args': {'table_names': 'model_versions'}, 'id': 'f6160ee3-bc3e-45ac-a946-a82fd5915544', 'type': 'tool_call'}], usage_metadata={'input_tokens': 720, 'output_tokens': 20, 'total_tokens': 740})]}}\n",
      "----\n",
      "{'tools': {'messages': [ToolMessage(content='\\nCREATE TABLE model_versions (\\n\\tname VARCHAR(256) NOT NULL, \\n\\tversion INTEGER NOT NULL, \\n\\tcreation_time BIGINT, \\n\\tlast_updated_time BIGINT, \\n\\tdescription VARCHAR(5000), \\n\\tuser_id VARCHAR(256), \\n\\tcurrent_stage VARCHAR(20), \\n\\tsource VARCHAR(500), \\n\\trun_id VARCHAR(32), \\n\\tstatus VARCHAR(20), \\n\\tstatus_message VARCHAR(500), \\n\\trun_link VARCHAR(500), \\n\\tstorage_location VARCHAR(500), \\n\\tCONSTRAINT model_version_pk PRIMARY KEY (name, version), \\n\\tFOREIGN KEY(name) REFERENCES registered_models (name) ON UPDATE CASCADE\\n)\\n\\n/*\\n3 rows from model_versions table:\\nname\\tversion\\tcreation_time\\tlast_updated_time\\tdescription\\tuser_id\\tcurrent_stage\\tsource\\trun_id\\tstatus\\tstatus_message\\trun_link\\tstorage_location\\nnyc-taxi-regressor\\t1\\t1726099958660\\t1726099958660\\tNone\\tNone\\tNone\\t/workspaces/mlops/04- deployment/web-service-mlflow/mlruns/1/64b83260e4c4473d914426db74b3943f/artifa\\t64b83260e4c4473d914426db74b3943f\\tREADY\\tNone\\tNone\\t/workspaces/mlops/04- deployment/web-service-mlflow/mlruns/1/64b83260e4c4473d914426db74b3943f/artifa\\nnyc-taxi-regressor\\t2\\t1726104987725\\t1726104987725\\tNone\\tNone\\tNone\\t/workspaces/mlops/04- deployment/web-service-mlflow/mlruns/1/d716224711f645d184ef19b9e58cf7e0/artifa\\td716224711f645d184ef19b9e58cf7e0\\tREADY\\tNone\\tNone\\t/workspaces/mlops/04- deployment/web-service-mlflow/mlruns/1/d716224711f645d184ef19b9e58cf7e0/artifa\\n*/', name='sql_db_schema', id='b3e3e014-da3f-488a-b4bf-ccaab98c842a', tool_call_id='f6160ee3-bc3e-45ac-a946-a82fd5915544')]}}\n",
      "----\n",
      "{'agent': {'messages': [AIMessage(content='SELECT COUNT(*) FROM model_versions;', additional_kwargs={}, response_metadata={'model': 'llama3.1:latest', 'created_at': '2024-09-29T18:54:08.8673262Z', 'message': {'role': 'assistant', 'content': 'SELECT COUNT(*) FROM model_versions;'}, 'done_reason': 'stop', 'done': True, 'total_duration': 271691190600, 'load_duration': 216223000, 'prompt_eval_count': 726, 'prompt_eval_duration': 251018623000, 'eval_count': 8, 'eval_duration': 19900017000}, id='run-24c8aea3-5a6d-4bab-8234-bce7490e09af-0', usage_metadata={'input_tokens': 726, 'output_tokens': 8, 'total_tokens': 734})]}}\n",
      "----\n"
     ]
    }
   ],
   "source": [
    "for s in agent_executor.stream(\n",
    "    {\"messages\": [HumanMessage(content=question)]}\n",
    "):\n",
    "    print(s)\n",
    "    print(\"----\")"
   ]
  },
  {
   "cell_type": "code",
   "execution_count": null,
   "id": "0c17ccf2-e2cd-4f5a-ba5b-659b580ff0c7",
   "metadata": {},
   "outputs": [],
   "source": []
  }
 ],
 "metadata": {
  "kernelspec": {
   "display_name": "Python 3 (ipykernel)",
   "language": "python",
   "name": "python3"
  },
  "language_info": {
   "codemirror_mode": {
    "name": "ipython",
    "version": 3
   },
   "file_extension": ".py",
   "mimetype": "text/x-python",
   "name": "python",
   "nbconvert_exporter": "python",
   "pygments_lexer": "ipython3",
   "version": "3.12.6"
  }
 },
 "nbformat": 4,
 "nbformat_minor": 5
}
