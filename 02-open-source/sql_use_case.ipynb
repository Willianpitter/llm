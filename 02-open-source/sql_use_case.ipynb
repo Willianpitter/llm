{
 "cells": [
  {
   "cell_type": "code",
   "execution_count": 1,
   "id": "60ef6785-2953-4579-90e7-aa0f9876850f",
   "metadata": {},
   "outputs": [],
   "source": [
    "#https://python.langchain.com/v0.1/docs/use_cases/sql/quickstart/"
   ]
  },
  {
   "cell_type": "code",
   "execution_count": 6,
   "id": "f0235bb8-363b-433c-a385-2ffc50f3ae12",
   "metadata": {
    "scrolled": true
   },
   "outputs": [
    {
     "name": "stdout",
     "output_type": "stream",
     "text": [
      "sqlite\n",
      "['Album', 'Artist', 'Customer', 'Employee', 'Genre', 'Invoice', 'InvoiceLine', 'MediaType', 'Playlist', 'PlaylistTrack', 'Track']\n"
     ]
    },
    {
     "data": {
      "text/plain": [
       "\"[(1, 'AC/DC'), (2, 'Accept'), (3, 'Aerosmith'), (4, 'Alanis Morissette'), (5, 'Alice In Chains'), (6, 'Antônio Carlos Jobim'), (7, 'Apocalyptica'), (8, 'Audioslave'), (9, 'BackBeat'), (10, 'Billy Cobham')]\""
      ]
     },
     "execution_count": 6,
     "metadata": {},
     "output_type": "execute_result"
    }
   ],
   "source": [
    "from langchain_community.utilities import SQLDatabase\n",
    "\n",
    "db = SQLDatabase.from_uri(\"sqlite:///Chinook.db\")\n",
    "print(db.dialect)\n",
    "print(db.get_usable_table_names())\n",
    "db.run(\"SELECT * FROM Artist LIMIT 10;\")"
   ]
  },
  {
   "cell_type": "code",
   "execution_count": 9,
   "id": "2b7bc9f6-ac28-4aaf-8512-802fdc0f329d",
   "metadata": {},
   "outputs": [
    {
     "data": {
      "text/plain": [
       "'SELECT COUNT(CustomerId) FROM Customer'"
      ]
     },
     "execution_count": 9,
     "metadata": {},
     "output_type": "execute_result"
    }
   ],
   "source": [
    "from langchain.chains import create_sql_query_chain\n",
    "from langchain_community.llms import Ollama\n",
    "\n",
    "llm = Ollama(model=\"llama3.1:latest\",temperature=0)\n",
    "chain = create_sql_query_chain(llm, db)\n",
    "#response = chain.invoke({\"question\": \"How many customers are there\"})\n",
    "#response"
   ]
  },
  {
   "cell_type": "code",
   "execution_count": 11,
   "id": "6ab365b8-29c2-400a-8396-c3151676a024",
   "metadata": {},
   "outputs": [
    {
     "data": {
      "text/plain": [
       "'[(59,)]'"
      ]
     },
     "execution_count": 11,
     "metadata": {},
     "output_type": "execute_result"
    }
   ],
   "source": []
  },
  {
   "cell_type": "code",
   "execution_count": null,
   "id": "c8553d28-9d46-42ad-be4b-ecde2f77486d",
   "metadata": {},
   "outputs": [],
   "source": []
  },
  {
   "cell_type": "code",
   "execution_count": null,
   "id": "e9474eab-f3b0-40fd-9b3d-9bf02a8a051f",
   "metadata": {},
   "outputs": [],
   "source": [
    "from operator import itemgetter\n",
    "from langchain_core.output_parsers import StrOutputParser\n",
    "from langchain_core.prompts import PromptTemplate\n",
    "from langchain_core.runnables import RunnablePassthrough\n",
    "from langchain.agents import AgentExecutor, Tool\n",
    "\n",
    "# Define the prompt template for human-readable output\n",
    "answer_prompt = PromptTemplate.from_template(\n",
    "    \"\"\"Given the following user question, corresponding SQL query, and SQL result, answer the user question.\n",
    "\n",
    "Question: {question}\n",
    "SQL Query: {query}\n",
    "SQL Result: {result}\n",
    "Answer: \"\"\"\n",
    ")\n",
    "\n",
    "# Define the SQL chain\n",
    "sql_chain = (\n",
    "    RunnablePassthrough.assign(query=write_query)  # Generate the SQL query\n",
    "    .assign(result=itemgetter(\"query\") | execute_query)  # Execute the query and return the result\n",
    "    | answer_prompt  # Fill in the prompt with question, query, and result\n",
    "    | llm  # Use the LLM to generate a human-readable answer\n",
    "    | StrOutputParser()  # Parse the output as a string\n",
    ")\n",
    "\n",
    "# Define a tool that the agent can use (our SQL chain tool)\n",
    "sql_tool = Tool(\n",
    "    name=\"SQLQueryTool\",\n",
    "    func=sql_chain.invoke,  # The chain's invoke function\n",
    "    description=\"Executes a SQL query based on a user question and returns a natural language answer.\"\n",
    ")\n",
    "\n",
    "# Define the agent that will handle user input\n",
    "agent = AgentExecutor.from_tools([sql_tool])\n",
    "\n",
    "# Now you can invoke the agent directly, and it will use the chain as one of its tools\n",
    "response = agent.invoke({\"input\": \"How many employees are there?\"})\n",
    "\n",
    "# Print the final response\n",
    "print(response)\n"
   ]
  },
  {
   "cell_type": "markdown",
   "id": "2d6f23a8-7897-4cff-80ec-3ec2f7267f26",
   "metadata": {},
   "source": [
    "Query checerk"
   ]
  },
  {
   "cell_type": "code",
   "execution_count": 12,
   "id": "7d93bb0e-9e03-46f4-b8ff-fc015e34560b",
   "metadata": {},
   "outputs": [],
   "source": [
    "from langchain_core.output_parsers import StrOutputParser\n",
    "from langchain_core.prompts import ChatPromptTemplate\n",
    "\n",
    "system = \"\"\"Double check the user's {dialect} query for common mistakes, including:\n",
    "- Using NOT IN with NULL values\n",
    "- Using UNION when UNION ALL should have been used\n",
    "- Using BETWEEN for exclusive ranges\n",
    "- Data type mismatch in predicates\n",
    "- Properly quoting identifiers\n",
    "- Using the correct number of arguments for functions\n",
    "- Casting to the correct data type\n",
    "- Using the proper columns for joins\n",
    "\n",
    "If there are any of the above mistakes, rewrite the query. If there are no mistakes, just reproduce the original query.\n",
    "\n",
    "Output the final SQL query only.\"\"\"\n",
    "prompt = ChatPromptTemplate.from_messages(\n",
    "    [(\"system\", system), (\"human\", \"{query}\")]\n",
    ").partial(dialect=db.dialect)\n",
    "validation_chain = prompt | llm | StrOutputParser()\n",
    "\n",
    "full_chain = {\"query\": chain} | validation_chain"
   ]
  },
  {
   "cell_type": "code",
   "execution_count": 13,
   "id": "ebff044d-59ba-405f-87a2-c10ad77b878b",
   "metadata": {},
   "outputs": [],
   "source": [
    "query = full_chain.invoke({\"question\": \"How many employees are there\"})"
   ]
  },
  {
   "cell_type": "code",
   "execution_count": 14,
   "id": "7e89a001-5752-4de3-9e05-26b6bd2e7a8d",
   "metadata": {},
   "outputs": [
    {
     "data": {
      "text/plain": [
       "'SELECT * FROM customers;'"
      ]
     },
     "execution_count": 14,
     "metadata": {},
     "output_type": "execute_result"
    }
   ],
   "source": [
    "query"
   ]
  },
  {
   "cell_type": "code",
   "execution_count": 15,
   "id": "59de9d96-fc91-4eed-a19c-66da90f8fdec",
   "metadata": {},
   "outputs": [
    {
     "name": "stdout",
     "output_type": "stream",
     "text": [
      "You are a SQLite expert. Given an input question, first create a syntactically correct SQLite query to run, then look at the results of the query and return the answer to the input question.\n",
      "Unless the user specifies in the question a specific number of examples to obtain, query for at most 5 results using the LIMIT clause as per SQLite. You can order the results to return the most informative data in the database.\n",
      "Never query for all columns from a table. You must query only the columns that are needed to answer the question. Wrap each column name in double quotes (\") to denote them as delimited identifiers.\n",
      "Pay attention to use only the column names you can see in the tables below. Be careful to not query for columns that do not exist. Also, pay attention to which column is in which table.\n",
      "Pay attention to use date('now') function to get the current date, if the question involves \"today\".\n",
      "\n",
      "Use the following format:\n",
      "\n",
      "Question: Question here\n",
      "SQLQuery: SQL Query to run\n",
      "SQLResult: Result of the SQLQuery\n",
      "Answer: Final answer here\n",
      "\n",
      "Only use the following tables:\n",
      "\u001b[33;1m\u001b[1;3m{table_info}\u001b[0m\n",
      "\n",
      "Question: \u001b[33;1m\u001b[1;3m{input}\u001b[0m\n"
     ]
    }
   ],
   "source": [
    "chain.get_prompts()[0].pretty_print()"
   ]
  },
  {
   "cell_type": "code",
   "execution_count": null,
   "id": "dfd7d29f-a980-4ef0-8a8e-4981c3b144c1",
   "metadata": {},
   "outputs": [],
   "source": []
  }
 ],
 "metadata": {
  "kernelspec": {
   "display_name": "Python 3 (ipykernel)",
   "language": "python",
   "name": "python3"
  },
  "language_info": {
   "codemirror_mode": {
    "name": "ipython",
    "version": 3
   },
   "file_extension": ".py",
   "mimetype": "text/x-python",
   "name": "python",
   "nbconvert_exporter": "python",
   "pygments_lexer": "ipython3",
   "version": "3.12.6"
  }
 },
 "nbformat": 4,
 "nbformat_minor": 5
}
