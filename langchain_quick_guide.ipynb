{
 "cells": [
  {
   "cell_type": "code",
   "execution_count": 5,
   "id": "a27076f7-84ed-4ebf-a420-f7aece1fb5a4",
   "metadata": {},
   "outputs": [],
   "source": [
    "from langchain_community.llms import Ollama\n",
    "llm = Ollama(model=\"tinyllama\")"
   ]
  },
  {
   "cell_type": "code",
   "execution_count": 6,
   "id": "5c16a5dd-ff21-4fc9-96b1-052b18b37cbf",
   "metadata": {},
   "outputs": [
    {
     "data": {
      "text/plain": [
       "\"LangSmith is an artificial intelligence (AI) test automation tool designed to assist in the process of testing web applications, specifically for functional testing. Here are some ways LangSmith helps with testing:\\n\\n1. Faster test execution: LangSmith can analyze test cases and generate test reports automatically, making it easier to identify bugs and issues faster.\\n\\n2. Better coverage: With its AI-powered machine learning capabilities, LangSmith can optimize the test plan and run more tests to detect defects more effectively.\\n\\n3. More accurate results: The advanced reporting features of LangSmith allow you to visualize the performance data in different ways, such as graphical charts or detailed reports that show you how test cases impact application behavior.\\n\\n4. More efficient testing: By reducing the time required for test planning and execution, LangSmith can help you run more tests at faster speeds without compromising on quality.\\n\\n5. Improved test consistency: With LangSmith's AI-driven test automation, you can ensure that your tests are running consistently and accurately every time with fewer errors or bugs.\\n\\nOverall, LangSmith can help streamline the testing process, improve efficiency, and identify issues earlier in the development cycle, which ultimately leads to better quality products.\""
      ]
     },
     "execution_count": 6,
     "metadata": {},
     "output_type": "execute_result"
    }
   ],
   "source": [
    "llm.invoke(\"how can langsmith help with testing?\")"
   ]
  },
  {
   "cell_type": "code",
   "execution_count": 7,
   "id": "0a977c97-1f27-4bfa-81ab-45691bfa704b",
   "metadata": {},
   "outputs": [],
   "source": [
    "from langchain_core.prompts import ChatPromptTemplate\n",
    "prompt = ChatPromptTemplate.from_messages([\n",
    "    (\"system\", \"You are a world class technical documentation writer.\"),\n",
    "    (\"user\", \"{input}\")\n",
    "])"
   ]
  },
  {
   "cell_type": "code",
   "execution_count": 8,
   "id": "1aceb035-661b-4050-baad-a38dcb986cfa",
   "metadata": {},
   "outputs": [],
   "source": [
    "chain = prompt | llm "
   ]
  },
  {
   "cell_type": "code",
   "execution_count": 9,
   "id": "bf8b8dc0-1af5-46a7-9c3c-f3cac103b7ab",
   "metadata": {},
   "outputs": [
    {
     "data": {
      "text/plain": [
       "\"Langsmith's Testing Assistance is a tailored suite of professional services designed to assist you in designing, conducting, and analyzing your software testing process and ensuring it achieves its goals. Our team of experienced developers, testers, and quality assurance professionals can help with all aspects of testing, from planning and prioritization to execution and analysis. We provide a range of services that can help you identify bugs, improve test coverage, and streamline your testing process for maximum efficiency. Whether you need testing support during development or after release, Langsmith's team is committed to helping you deliver quality software products that meet your needs.\""
      ]
     },
     "execution_count": 9,
     "metadata": {},
     "output_type": "execute_result"
    }
   ],
   "source": [
    "chain.invoke({\"input\": \"how can langsmith help with testing?\"})"
   ]
  },
  {
   "cell_type": "code",
   "execution_count": 10,
   "id": "7074e9b8-286e-4f31-ad7e-99b0fdd9d62f",
   "metadata": {},
   "outputs": [],
   "source": [
    "from langchain_core.output_parsers import StrOutputParser\n",
    "\n",
    "output_parser = StrOutputParser()"
   ]
  },
  {
   "cell_type": "code",
   "execution_count": 11,
   "id": "59913fa7-f56d-4e37-92d0-677c8339eb35",
   "metadata": {},
   "outputs": [],
   "source": [
    "chain = prompt | llm | output_parser"
   ]
  },
  {
   "cell_type": "code",
   "execution_count": 12,
   "id": "fdbd6c60-770e-44b4-b4f1-9a33bd5baf7a",
   "metadata": {},
   "outputs": [
    {
     "data": {
      "text/plain": [
       "\"Langsmith offers comprehensive testing services designed to identify and address potential issues in your software or application before it's released to the public. Here's how we can help:\\n\\n1. Conducting user acceptance tests (UAT): Before you release a new version of your software, we conduct rigorous user acceptance testing. We work with your development team to create detailed test plans and execute them on your system to identify bugs and defects before they cause issues for users.\\n\\n2. Performing regression tests: After the initial UAT is complete, we perform extensive regression testing to ensure that all changes made to the software in production don't impact its functionality or user experience. This includes testing for new features as well as fixing bugs that were identified during UAT.\\n\\n3. Performing vulnerability scans and penetration testing: We also conduct security checks of your system, including vulnerability scans and penetration tests to ensure that you're protected from potential security threats.\\n\\n4. Providing post-release support: In the event that issues are identified during testing, we can provide post-release support to help address any issues as soon as possible. Our team is available 24/7 to address any issues that arise.\\n\\n5. Providing ongoing maintenance and support: We can also provide you with ongoing maintenance and support throughout the life of your software or application, ensuring that it stays up-to-date with the latest features and security patches.\""
      ]
     },
     "execution_count": 12,
     "metadata": {},
     "output_type": "execute_result"
    }
   ],
   "source": [
    "chain.invoke({\"input\": \"how can langsmith help with testing?\"})"
   ]
  }
 ],
 "metadata": {
  "kernelspec": {
   "display_name": "Python 3 (ipykernel)",
   "language": "python",
   "name": "python3"
  },
  "language_info": {
   "codemirror_mode": {
    "name": "ipython",
    "version": 3
   },
   "file_extension": ".py",
   "mimetype": "text/x-python",
   "name": "python",
   "nbconvert_exporter": "python",
   "pygments_lexer": "ipython3",
   "version": "3.12.6"
  }
 },
 "nbformat": 4,
 "nbformat_minor": 5
}
